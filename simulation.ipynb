{
 "cells": [
  {
   "cell_type": "code",
   "execution_count": 1,
   "metadata": {
    "collapsed": false
   },
   "outputs": [],
   "source": [
    "import commpy\n",
    "import numpy as np\n",
    "from __future__ import division"
   ]
  },
  {
   "cell_type": "code",
   "execution_count": 2,
   "metadata": {
    "collapsed": false
   },
   "outputs": [],
   "source": [
    "import matplotlib.pyplot as plt\n",
    "%matplotlib inline\n",
    "import seaborn as sns"
   ]
  },
  {
   "cell_type": "markdown",
   "metadata": {},
   "source": [
    "## Preliminaries"
   ]
  },
  {
   "cell_type": "markdown",
   "metadata": {},
   "source": [
    "Remember the relation:\n",
    "\n",
    "$$\n",
    "\\frac{C}{N} = \\frac{E_b}{N_o} \\cdot \\frac{R}{B}\n",
    "$$\n",
    "\n",
    "See [here](http://www.eletrica.ufpr.br/evelio/TE111/Eb_N0.pdf).\n",
    "\n",
    "$B$ is not the channel bandwidth; it's the receiver bandwidth. For NRZ encoding that's 0.5 of the bitrate. So usually $\\frac{R}{B}$ is 2 (or 3 dB).\n",
    "\n",
    "The AWGN simulator below is applied to the signal already on the channel, so it needs $C/N$, not $E_b/N_o$.\n",
    "\n",
    "We want to simulate $\\mathrm{BER}$ vs $E_b/N_o$.\n",
    "\n",
    "So, for each $E_b/N_o$ value, first convert into $C/N$ before inputting it to the AWGN simulator."
   ]
  },
  {
   "cell_type": "markdown",
   "metadata": {},
   "source": [
    "#### Abstractions, abstractions, abstractions"
   ]
  },
  {
   "cell_type": "code",
   "execution_count": 3,
   "metadata": {
    "collapsed": true
   },
   "outputs": [],
   "source": [
    "chip_map = {}\n",
    "with open('symbol_chip_mapping.txt', 'r') as f:\n",
    "    for line in f:\n",
    "        decimal, binary, chip = line.split()\n",
    "        chip_map[int(decimal)] = np.array([int(x) for x in chip])\n",
    "\n",
    "def spread(data_symbol):\n",
    "    \"\"\"\n",
    "    data_symbol : int\n",
    "    \"\"\"\n",
    "    return chip_map[data_symbol%16]"
   ]
  },
  {
   "cell_type": "code",
   "execution_count": 4,
   "metadata": {
    "collapsed": true
   },
   "outputs": [],
   "source": [
    "from ipyparallel import interactive\n",
    "\n",
    "@interactive\n",
    "class BaseEncoder(object):\n",
    "    __name__ = 'encoder'\n",
    "    def __init__(self):\n",
    "        pass\n",
    "\n",
    "@interactive\n",
    "class NibbleEncoder(BaseEncoder):\n",
    "    def encode(self, data):\n",
    "        \"\"\"\n",
    "        data   : array of {0, 1, ..., N-1}^M\n",
    "        return : ( list of (array of {0, 1}^(log2(N)) )^M\n",
    "        \"\"\"\n",
    "        return map(lambda x: commpy.utilities.dec2bitarray(x, 4), data)\n",
    "    \n",
    "    def decode(self, data):\n",
    "        \"\"\"\n",
    "        data   : ( list of (array of {0, 1}^(log2(N)) )^M\n",
    "        return : array of {0, 1, ..., N-1}^M\n",
    "        \"\"\"\n",
    "        return np.array(map(commpy.utilities.bitarray2dec, data))\n",
    "\n",
    "@interactive\n",
    "class ChipEncoder(BaseEncoder):\n",
    "    def encode(self, data):\n",
    "        return map(spread, data)\n",
    "    \n",
    "    def decode(self, data):\n",
    "        return np.array([np.argmax([np.correlate(y, x) for x in chip_map.itervalues()]) for y in data])"
   ]
  },
  {
   "cell_type": "code",
   "execution_count": 5,
   "metadata": {
    "collapsed": true
   },
   "outputs": [],
   "source": [
    "@interactive\n",
    "class BaseModem(object):\n",
    "    __name__ = 'modem'\n",
    "\n",
    "@interactive\n",
    "class QPSK(BaseModem):\n",
    "    def __init__(self):\n",
    "        self.modem = commpy.modulation.PSKModem(4)\n",
    "    \n",
    "    def modulate(self, bits):\n",
    "        \"\"\"\n",
    "        bits   : ( list of (array of {0, 1}^(log2(N)) )^M\n",
    "        return : ( list of (array of complex^(log2(N)/2)) )^M\n",
    "        \"\"\"\n",
    "        return map(self.modem.modulate, bits)\n",
    "    \n",
    "    def demodulate(self, symbols):\n",
    "        \"\"\"\n",
    "        symbols : ( list of (array of complex^(log2(N)/2)) )^M\n",
    "        return  : ( list of (array of {0, 1}^(log2(N)) )^M\n",
    "        \"\"\"\n",
    "        return map(lambda x: self.modem.demodulate(x, 'hard'), symbols)"
   ]
  },
  {
   "cell_type": "code",
   "execution_count": 6,
   "metadata": {
    "collapsed": true
   },
   "outputs": [],
   "source": [
    "def awgn(symbols, snr):\n",
    "    \"\"\"\n",
    "    symbols : ( list of (array of complex^(log2(N)/2)) )^M\n",
    "    snr     : number\n",
    "    return  : same type and shape as symbols\n",
    "    \"\"\"\n",
    "    return map(lambda x: commpy.channels.awgn(x, snr, rate=1), symbols)\n",
    "\n",
    "def rayleigh(symbols, params):\n",
    "    pass"
   ]
  },
  {
   "cell_type": "code",
   "execution_count": 7,
   "metadata": {
    "collapsed": false
   },
   "outputs": [],
   "source": [
    "# the function to be run in parallel\n",
    "def compute_ber(encoder, modem, channel, snr):\n",
    "    nerr = 0\n",
    "    for rep in range(100):\n",
    "        in_data = np.random.randint(0, 16, 10000)\n",
    "\n",
    "        # tx\n",
    "        in_bits = encoder.encode(in_data)\n",
    "        in_symbols = modem.modulate(in_bits)\n",
    "\n",
    "        # channel\n",
    "        out_symbols = channel(in_symbols, snr)\n",
    "\n",
    "        # rx\n",
    "        out_bits = modem.demodulate(out_symbols)\n",
    "        out_data = encoder.decode(out_bits)\n",
    "        \n",
    "        nerr += (in_data != out_data).sum()\n",
    "        \n",
    "    return nerr / (100 * len(in_data))"
   ]
  },
  {
   "cell_type": "markdown",
   "metadata": {},
   "source": [
    "#### Setup multiple cores"
   ]
  },
  {
   "cell_type": "code",
   "execution_count": 8,
   "metadata": {
    "collapsed": false
   },
   "outputs": [
    {
     "data": {
      "text/plain": [
       "<AsyncResult: finished>"
      ]
     },
     "execution_count": 8,
     "metadata": {},
     "output_type": "execute_result"
    }
   ],
   "source": [
    "# run `ipcluster start`\n",
    "from ipyparallel import Client\n",
    "\n",
    "c = Client()\n",
    "dview = c[:]\n",
    "dview.execute('import numpy as np; import commpy')\n",
    "dview.use_dill()"
   ]
  },
  {
   "cell_type": "code",
   "execution_count": 9,
   "metadata": {
    "collapsed": true
   },
   "outputs": [],
   "source": [
    "def __push_vars(view, *args):\n",
    "    for arg in args:\n",
    "        view[arg.__name__] = arg"
   ]
  },
  {
   "cell_type": "markdown",
   "metadata": {},
   "source": [
    "## QPSK"
   ]
  },
  {
   "cell_type": "markdown",
   "metadata": {},
   "source": [
    "#### Theory"
   ]
  },
  {
   "cell_type": "markdown",
   "metadata": {},
   "source": [
    "QPSK over AWGN curve:\n",
    "\n",
    "$$\n",
    "\\mathrm{BER} = \\frac{1}{2}\\mathrm{erfc}\\sqrt{E_b/N_o}\n",
    "$$\n",
    "\n",
    "[wikipedia](https://en.wikipedia.org/wiki/Bit_error_rate)"
   ]
  },
  {
   "cell_type": "code",
   "execution_count": 10,
   "metadata": {
    "collapsed": true
   },
   "outputs": [],
   "source": [
    "from scipy.special import erfc"
   ]
  },
  {
   "cell_type": "code",
   "execution_count": 11,
   "metadata": {
    "collapsed": false
   },
   "outputs": [
    {
     "data": {
      "text/plain": [
       "array([-3, -2, -1,  0,  1,  2,  3,  4,  5,  6,  7])"
      ]
     },
     "execution_count": 11,
     "metadata": {},
     "output_type": "execute_result"
    }
   ],
   "source": [
    "ebno = np.arange(-3, 8)\n",
    "ebno"
   ]
  },
  {
   "cell_type": "code",
   "execution_count": 12,
   "metadata": {
    "collapsed": true
   },
   "outputs": [],
   "source": [
    "def db20_to_linear(x):\n",
    "    return 10 ** (x / 20)"
   ]
  },
  {
   "cell_type": "code",
   "execution_count": 13,
   "metadata": {
    "collapsed": false
   },
   "outputs": [
    {
     "data": {
      "image/png": "[encoded data removed]",
      "text/plain": [
       "<matplotlib.figure.Figure at 0x1e326f28>"
      ]
     },
     "metadata": {},
     "output_type": "display_data"
    }
   ],
   "source": [
    "th_ber = 0.5 * erfc(db20_to_linear(ebno))\n",
    "plt.plot(ebno, th_ber, '-o')\n",
    "plt.yscale('log')"
   ]
  },
  {
   "cell_type": "code",
   "execution_count": 14,
   "metadata": {
    "collapsed": false
   },
   "outputs": [
    {
     "data": {
      "text/plain": [
       "array([ 0,  1,  2,  3,  4,  5,  6,  7,  8,  9, 10])"
      ]
     },
     "execution_count": 14,
     "metadata": {},
     "output_type": "execute_result"
    }
   ],
   "source": [
    "snr = ebno + 3\n",
    "snr"
   ]
  },
  {
   "cell_type": "markdown",
   "metadata": {},
   "source": [
    "#### Simulation"
   ]
  },
  {
   "cell_type": "code",
   "execution_count": 15,
   "metadata": {
    "collapsed": false
   },
   "outputs": [
    {
     "data": {
      "text/plain": [
       "<AsyncMapResult: <lambda>>"
      ]
     },
     "execution_count": 15,
     "metadata": {},
     "output_type": "execute_result"
    }
   ],
   "source": [
    "encoder = NibbleEncoder()\n",
    "modem = QPSK()\n",
    "\n",
    "__push_vars(dview, compute_ber, encoder, modem, awgn)\n",
    "res = dview.map(lambda x: compute_ber(encoder, modem, awgn, x), snr)\n",
    "res"
   ]
  },
  {
   "cell_type": "code",
   "execution_count": 16,
   "metadata": {
    "collapsed": false
   },
   "outputs": [],
   "source": [
    "ber = res.get()"
   ]
  },
  {
   "cell_type": "code",
   "execution_count": 17,
   "metadata": {
    "collapsed": false
   },
   "outputs": [
    {
     "data": {
      "image/png": "[encoded data removed]",
      "text/plain": [
       "<matplotlib.figure.Figure at 0x1e463e80>"
      ]
     },
     "metadata": {},
     "output_type": "display_data"
    }
   ],
   "source": [
    "plt.plot(ebno, th_ber, '-o')\n",
    "plt.plot(ebno, ber, 'r--o')\n",
    "plt.yscale('log')"
   ]
  },
  {
   "cell_type": "code",
   "execution_count": null,
   "metadata": {
    "collapsed": true
   },
   "outputs": [],
   "source": []
  },
  {
   "cell_type": "markdown",
   "metadata": {},
   "source": [
    "## QPSK with 802.15.4 DSSS"
   ]
  },
  {
   "cell_type": "code",
   "execution_count": 18,
   "metadata": {
    "collapsed": false
   },
   "outputs": [
    {
     "data": {
      "text/plain": [
       "array([-77, -67, -57, -47, -37])"
      ]
     },
     "execution_count": 18,
     "metadata": {},
     "output_type": "execute_result"
    }
   ],
   "source": [
    "low_ebno = np.arange(-80, -30, 10)\n",
    "low_snr = low_ebno + 3\n",
    "low_snr"
   ]
  },
  {
   "cell_type": "code",
   "execution_count": 28,
   "metadata": {
    "collapsed": false
   },
   "outputs": [
    {
     "data": {
      "text/plain": [
       "<AsyncMapResult: <lambda>>"
      ]
     },
     "execution_count": 28,
     "metadata": {},
     "output_type": "execute_result"
    }
   ],
   "source": [
    "cencoder = ChipEncoder()\n",
    "\n",
    "#__push_vars(dview, cencoder, spread)\n",
    "dview['cencoder'] = cencoder\n",
    "dview['chip_map'] = chip_map\n",
    "res = dview.map(lambda x: compute_ber(cencoder, modem, awgn, x), low_snr)\n",
    "res"
   ]
  },
  {
   "cell_type": "code",
   "execution_count": 29,
   "metadata": {
    "collapsed": false
   },
   "outputs": [
    {
     "data": {
      "text/plain": [
       "[0.0, 0.0, 0.0, 0.0, 0.0]"
      ]
     },
     "execution_count": 29,
     "metadata": {},
     "output_type": "execute_result"
    }
   ],
   "source": [
    "low_ber = res.get()\n",
    "low_ber"
   ]
  },
  {
   "cell_type": "code",
   "execution_count": 30,
   "metadata": {
    "collapsed": false
   },
   "outputs": [
    {
     "data": {
      "image/png": "[encoded data removed]",
      "text/plain": [
       "<matplotlib.figure.Figure at 0x1f36a7f0>"
      ]
     },
     "metadata": {},
     "output_type": "display_data"
    }
   ],
   "source": [
    "plt.plot(ebno, th_ber, '-o')\n",
    "plt.plot(low_ebno, low_ber, 'r--o')\n",
    "plt.yscale('log')"
   ]
  },
  {
   "cell_type": "code",
   "execution_count": null,
   "metadata": {
    "collapsed": true
   },
   "outputs": [],
   "source": []
  }
 ],
 "metadata": {
  "kernelspec": {
   "display_name": "Python 2",
   "language": "python",
   "name": "python2"
  },
  "language_info": {
   "codemirror_mode": {
    "name": "ipython",
    "version": 2
   },
   "file_extension": ".py",
   "mimetype": "text/x-python",
   "name": "python",
   "nbconvert_exporter": "python",
   "pygments_lexer": "ipython2",
   "version": "2.7.10"
  }
 },
 "nbformat": 4,
 "nbformat_minor": 0
}
